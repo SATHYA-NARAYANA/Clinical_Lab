{
 "cells": [
  {
   "cell_type": "markdown",
   "id": "d085290c",
   "metadata": {},
   "source": [
    "# We are importing Warning package to see unwanted warnings "
   ]
  },
  {
   "cell_type": "code",
   "execution_count": 1,
   "id": "4c7a60ff",
   "metadata": {},
   "outputs": [],
   "source": [
    "import warnings\n",
    "warnings.filterwarnings('ignore')"
   ]
  },
  {
   "cell_type": "code",
   "execution_count": 2,
   "id": "fec35c89",
   "metadata": {},
   "outputs": [],
   "source": [
    "from tensorflow import keras"
   ]
  },
  {
   "cell_type": "code",
   "execution_count": 3,
   "id": "1ece6f13",
   "metadata": {},
   "outputs": [],
   "source": [
    "from keras.layers import Input,Lambda, Dense, Flatten"
   ]
  },
  {
   "cell_type": "code",
   "execution_count": 4,
   "id": "462d95f9",
   "metadata": {},
   "outputs": [],
   "source": [
    "from keras.models import Model\n",
    "from keras.applications.vgg16 import VGG16\n",
    "from keras.applications.vgg16 import preprocess_input\n",
    "from keras.preprocessing import image\n",
    "from keras.preprocessing.image import ImageDataGenerator\n",
    "from keras.models import sequential\n",
    "import numpy as np\n",
    "from glob import glob\n",
    "import matplotlib.pyplot as plt"
   ]
  },
  {
   "cell_type": "code",
   "execution_count": 5,
   "id": "02865c1f",
   "metadata": {},
   "outputs": [],
   "source": [
    "IMAGE_SIZE = [224, 224]\n",
    "\n",
    "train_path = 'Dataset/chest_xray/train'\n",
    "test_path = 'Dataset/chest_xray/test'"
   ]
  },
  {
   "cell_type": "code",
   "execution_count": 7,
   "id": "e981c32d",
   "metadata": {},
   "outputs": [],
   "source": [
    "#Importing Imagenet data for model training\n",
    "vgg = VGG16(input_shape=IMAGE_SIZE + [3], weights='imagenet', include_top=False)"
   ]
  },
  {
   "cell_type": "code",
   "execution_count": 8,
   "id": "3875d401",
   "metadata": {},
   "outputs": [],
   "source": [
    "for layer in vgg.layers:\n",
    "    layer.trainable = False"
   ]
  },
  {
   "cell_type": "code",
   "execution_count": 9,
   "id": "8c1f79f2",
   "metadata": {},
   "outputs": [],
   "source": [
    "folders = glob('Dataset/chest_xray/train/*')\n",
    "x = Flatten()(vgg.output)"
   ]
  },
  {
   "cell_type": "code",
   "execution_count": 10,
   "id": "a831e10f",
   "metadata": {},
   "outputs": [
    {
     "name": "stdout",
     "output_type": "stream",
     "text": [
      "Model: \"model\"\n",
      "_________________________________________________________________\n",
      "Layer (type)                 Output Shape              Param #   \n",
      "=================================================================\n",
      "input_2 (InputLayer)         [(None, 224, 224, 3)]     0         \n",
      "_________________________________________________________________\n",
      "block1_conv1 (Conv2D)        (None, 224, 224, 64)      1792      \n",
      "_________________________________________________________________\n",
      "block1_conv2 (Conv2D)        (None, 224, 224, 64)      36928     \n",
      "_________________________________________________________________\n",
      "block1_pool (MaxPooling2D)   (None, 112, 112, 64)      0         \n",
      "_________________________________________________________________\n",
      "block2_conv1 (Conv2D)        (None, 112, 112, 128)     73856     \n",
      "_________________________________________________________________\n",
      "block2_conv2 (Conv2D)        (None, 112, 112, 128)     147584    \n",
      "_________________________________________________________________\n",
      "block2_pool (MaxPooling2D)   (None, 56, 56, 128)       0         \n",
      "_________________________________________________________________\n",
      "block3_conv1 (Conv2D)        (None, 56, 56, 256)       295168    \n",
      "_________________________________________________________________\n",
      "block3_conv2 (Conv2D)        (None, 56, 56, 256)       590080    \n",
      "_________________________________________________________________\n",
      "block3_conv3 (Conv2D)        (None, 56, 56, 256)       590080    \n",
      "_________________________________________________________________\n",
      "block3_pool (MaxPooling2D)   (None, 28, 28, 256)       0         \n",
      "_________________________________________________________________\n",
      "block4_conv1 (Conv2D)        (None, 28, 28, 512)       1180160   \n",
      "_________________________________________________________________\n",
      "block4_conv2 (Conv2D)        (None, 28, 28, 512)       2359808   \n",
      "_________________________________________________________________\n",
      "block4_conv3 (Conv2D)        (None, 28, 28, 512)       2359808   \n",
      "_________________________________________________________________\n",
      "block4_pool (MaxPooling2D)   (None, 14, 14, 512)       0         \n",
      "_________________________________________________________________\n",
      "block5_conv1 (Conv2D)        (None, 14, 14, 512)       2359808   \n",
      "_________________________________________________________________\n",
      "block5_conv2 (Conv2D)        (None, 14, 14, 512)       2359808   \n",
      "_________________________________________________________________\n",
      "block5_conv3 (Conv2D)        (None, 14, 14, 512)       2359808   \n",
      "_________________________________________________________________\n",
      "block5_pool (MaxPooling2D)   (None, 7, 7, 512)         0         \n",
      "_________________________________________________________________\n",
      "flatten (Flatten)            (None, 25088)             0         \n",
      "_________________________________________________________________\n",
      "dense (Dense)                (None, 2)                 50178     \n",
      "=================================================================\n",
      "Total params: 14,764,866\n",
      "Trainable params: 50,178\n",
      "Non-trainable params: 14,714,688\n",
      "_________________________________________________________________\n"
     ]
    }
   ],
   "source": [
    "prediction = Dense(len(folders), activation='softmax')(x)\n",
    "# creating a model object\n",
    "model = Model(inputs=vgg.input, outputs=prediction)\n",
    "# view the structure of model\n",
    "model.summary()"
   ]
  },
  {
   "cell_type": "code",
   "execution_count": 11,
   "id": "a75a68dd",
   "metadata": {},
   "outputs": [],
   "source": [
    "model.compile(\n",
    "    loss='categorical_crossentropy',\n",
    "    optimizer='adam',\n",
    "    metrics=['accuracy']\n",
    ")"
   ]
  },
  {
   "cell_type": "code",
   "execution_count": 12,
   "id": "86258338",
   "metadata": {},
   "outputs": [],
   "source": [
    "from keras_preprocessing.image import ImageDataGenerator"
   ]
  },
  {
   "cell_type": "code",
   "execution_count": 13,
   "id": "33d672c0",
   "metadata": {},
   "outputs": [
    {
     "name": "stdout",
     "output_type": "stream",
     "text": [
      "Found 5216 images belonging to 2 classes.\n",
      "Found 624 images belonging to 2 classes.\n"
     ]
    }
   ],
   "source": [
    "train_datagen = ImageDataGenerator(rescale = 1./255,\n",
    "                                  shear_range = 0.2,\n",
    "                                  zoom_range = 0.2,\n",
    "                                  horizontal_flip = True)\n",
    "\n",
    "test_datagen = ImageDataGenerator(rescale = 1./255)\n",
    "\n",
    "# Making sure you provided the same target size as initialized for image size\n",
    "\n",
    "training_set = train_datagen.flow_from_directory('Dataset/chest_xray/train',\n",
    "                                                target_size = (224,224),\n",
    "                                                batch_size = 10,\n",
    "                                                class_mode = 'categorical')\n",
    "\n",
    "test_set = train_datagen.flow_from_directory('Dataset/chest_xray/test',\n",
    "                                             target_size = (224,224),\n",
    "                                             batch_size = 10,\n",
    "                                             class_mode = 'categorical')\n",
    "\n"
   ]
  },
  {
   "cell_type": "code",
   "execution_count": 14,
   "id": "1d482cf9",
   "metadata": {},
   "outputs": [
    {
     "name": "stdout",
     "output_type": "stream",
     "text": [
      "Epoch 1/5\n",
      "522/522 [==============================] - 933s 2s/step - loss: 0.1868 - accuracy: 0.9325 - val_loss: 0.5251 - val_accuracy: 0.8654\n",
      "Epoch 2/5\n",
      "522/522 [==============================] - 889s 2s/step - loss: 0.1736 - accuracy: 0.9448 - val_loss: 0.4876 - val_accuracy: 0.8910\n",
      "Epoch 3/5\n",
      "522/522 [==============================] - 901s 2s/step - loss: 0.1790 - accuracy: 0.9544 - val_loss: 0.5304 - val_accuracy: 0.8910\n",
      "Epoch 4/5\n",
      "522/522 [==============================] - 909s 2s/step - loss: 0.1685 - accuracy: 0.9574 - val_loss: 0.9626 - val_accuracy: 0.8301\n",
      "Epoch 5/5\n",
      "522/522 [==============================] - 910s 2s/step - loss: 0.1270 - accuracy: 0.9651 - val_loss: 0.3676 - val_accuracy: 0.9071\n"
     ]
    }
   ],
   "source": [
    "r = model.fit_generator(\n",
    "    training_set,\n",
    "    validation_data = test_set,\n",
    "    epochs = 5,\n",
    "    steps_per_epoch = len(training_set),\n",
    "    validation_steps = len(test_set)\n",
    ")"
   ]
  },
  {
   "cell_type": "code",
   "execution_count": 15,
   "id": "416f9694",
   "metadata": {},
   "outputs": [],
   "source": [
    "import tensorflow as tf\n",
    "from keras.models import load_model\n",
    "\n",
    "model.save('modelx.h5')"
   ]
  },
  {
   "cell_type": "markdown",
   "id": "5cd2ed43",
   "metadata": {},
   "source": [
    "# Testing for Model  "
   ]
  },
  {
   "cell_type": "code",
   "execution_count": null,
   "id": "42e74bee",
   "metadata": {},
   "outputs": [],
   "source": [
    "from keras.models import load_model"
   ]
  },
  {
   "cell_type": "code",
   "execution_count": null,
   "id": "6dc9e2fa",
   "metadata": {},
   "outputs": [],
   "source": [
    "from keras.applications.vgg16 import preprocess_input"
   ]
  },
  {
   "cell_type": "code",
   "execution_count": null,
   "id": "2344bccd",
   "metadata": {},
   "outputs": [],
   "source": [
    "import numpy as np"
   ]
  },
  {
   "cell_type": "code",
   "execution_count": null,
   "id": "03aa67eb",
   "metadata": {},
   "outputs": [],
   "source": [
    "model =load_model('modelnew.h5')"
   ]
  },
  {
   "cell_type": "code",
   "execution_count": null,
   "id": "e29058b1",
   "metadata": {},
   "outputs": [],
   "source": [
    "import os\n",
    "import numpy as np\n",
    "import cv2\n",
    "import tensorflow as tf\n",
    "from tensorflow.keras.models import load_model\n",
    "model = load_model('modelnew.h5')\n",
    "CATEGORIES = [\"Pneumonia\", \"Non-Pneumonia\"]\n",
    "img = cv2.imread('Dataset/chest_xray/chest_xray/val/PNEUMONIA/person1946_bacteria_4875.jpeg')\n",
    "img = cv2.resize(img,(224,224))     # resize image to match model's expected sizing\n",
    "img = np.reshape(img,[1,224,224,3]) # return the image with shaping that TF wants.\n",
    "prediction1 = model.predict(img)\n",
    "prediction1"
   ]
  },
  {
   "cell_type": "code",
   "execution_count": null,
   "id": "877db746",
   "metadata": {},
   "outputs": [],
   "source": [
    "result1 = int(prediction1[0][0])"
   ]
  },
  {
   "cell_type": "code",
   "execution_count": null,
   "id": "8a072bd8",
   "metadata": {},
   "outputs": [],
   "source": [
    " if result1 > 0.5:\n",
    "    print(\"Result is Normal\")\n",
    " else:\n",
    "    print(\"Person is Affected by Pneumonia\")"
   ]
  },
  {
   "cell_type": "code",
   "execution_count": null,
   "id": "43d3c613",
   "metadata": {},
   "outputs": [],
   "source": [
    "import os\n",
    "import numpy as np\n",
    "import cv2\n",
    "import tensorflow as tf\n",
    "from tensorflow.keras.models import load_model\n",
    "model = load_model('modelnew.h5')\n",
    "CATEGORIES = [\"Pneumonia\", \"Non-Pneumonia\"]\n",
    "img = cv2.imread('Dataset/chest_xray/chest_xray/val/PNEUMONIA/person1950_bacteria_4881.jpeg')\n",
    "img = cv2.resize(img,(224,224))     # resize image to match model's expected sizing\n",
    "img = np.reshape(img,[1,224,224,3]) # return the image with shaping that TF wants.\n",
    "prediction2 = model.predict(img)\n",
    "prediction2"
   ]
  },
  {
   "cell_type": "code",
   "execution_count": null,
   "id": "dfa3fb4c",
   "metadata": {},
   "outputs": [],
   "source": [
    "result2 = int(prediction2[0][0])"
   ]
  },
  {
   "cell_type": "code",
   "execution_count": null,
   "id": "2cab185c",
   "metadata": {},
   "outputs": [],
   "source": [
    " if result2 > 0.5:\n",
    "    print(\"Result is Normal\")\n",
    " else:\n",
    "    print(\"Person is Affected by Pneumonia\")"
   ]
  },
  {
   "cell_type": "markdown",
   "id": "835c5cb6",
   "metadata": {},
   "source": [
    "# Thank You "
   ]
  }
 ],
 "metadata": {
  "kernelspec": {
   "display_name": "Python 3",
   "language": "python",
   "name": "python3"
  },
  "language_info": {
   "codemirror_mode": {
    "name": "ipython",
    "version": 3
   },
   "file_extension": ".py",
   "mimetype": "text/x-python",
   "name": "python",
   "nbconvert_exporter": "python",
   "pygments_lexer": "ipython3",
   "version": "3.8.8"
  }
 },
 "nbformat": 4,
 "nbformat_minor": 5
}
